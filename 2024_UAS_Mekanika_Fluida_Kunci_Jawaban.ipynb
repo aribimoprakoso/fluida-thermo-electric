{
 "cells": [
  {
   "cell_type": "markdown",
   "id": "31dffff2",
   "metadata": {},
   "source": [
    "# Soal-1  (CPMK 4, 30 poin)"
   ]
  },
  {
   "cell_type": "markdown",
   "id": "be8df6b8",
   "metadata": {},
   "source": [
    "## Rumus-Rumus Dasar"
   ]
  },
  {
   "cell_type": "code",
   "execution_count": 125,
   "id": "37e3d2e2",
   "metadata": {},
   "outputs": [],
   "source": [
    "import math\n",
    "\n",
    "# Fungsi untuk cetak besar variabel dan satuannya dengan singkat dan rapih\n",
    "# Prettify print function for variables with magnitude and unit\n",
    "def print_p(magnitude, unit=\" \", explanation= \" \", rounding=2):\n",
    "    magnitude_pretty = round(magnitude,rounding)\n",
    "    print(str(magnitude_pretty) +\" \"+unit+\" \"+explanation)\n",
    "\n",
    "def print_px(variable, magnitude, unit=\" \", explanation=\" \",  rounding=2):\n",
    "    magnitude_pretty = round(magnitude,rounding)\n",
    "    print(variable+\" = \"+str(magnitude_pretty) +\" \"+unit+\" \"+explanation)\n",
    "    \n",
    "# Bagaimana menentukan tipe aliran pipa?\n",
    "def tipe_aliran_pipa(Re):\n",
    "    if Re<=2000:\n",
    "        x = \"Aliran Laminer\"\n",
    "    elif Re>= 4000:\n",
    "        x = \"Aliran Turbulen\"\n",
    "    elif (Re>2000 and Re<4000):\n",
    "        x = \"Aliran Transisi Laminer ke Turbulen\"\n",
    "    else:\n",
    "        x = \"Tidak masuk rentang perhitungan. Cek lagi perhitungan atau tipe data.\"\n",
    "    print(x)\n",
    "    print(\"\")\n",
    "\n",
    "# Bagaimana menentukan faktor friksi dari aliran pipa?:\n",
    "def faktor_friksi_aliran_pipa(Re, eps_per_D=0):\n",
    "    if Re<=2000:\n",
    "        f=64/Re\n",
    "    elif Re>= 4000:\n",
    "        f_inv_sqrt = -1.8*math.log10((eps_per_D/3.7)**1.11+(6.9/Re))    # Rumus eksplisit Haaland\n",
    "        f = f_inv_sqrt**(-2)\n",
    "    elif (Re>2000 and Re<4000):\n",
    "        print(\"Aliran transisi laminar ke turbulen. Nilai faktor friksi f dari rumus ini tidak terlalu akurat.\")\n",
    "        f_lam=64/Re\n",
    "        f_inv_sqrt = -1.8*math.log10((eps_per_D/3.7)**1.11+(6.9/Re))    # Rumus eksplisit Haaland\n",
    "        f_turb = f_inv_sqrt**(-2)\n",
    "        x = (Re-2000)/(4000-2000)      # x=0 dekat laminar, x=1 dekat turbulen\n",
    "        f = (1-x)*f_lam + x*f_turb\n",
    "    return f"
   ]
  },
  {
   "cell_type": "markdown",
   "id": "6e4bc51c",
   "metadata": {},
   "source": [
    "# Soal-1 dan Penyelesaiannya\n",
    "\n",
    "𝑧_2−𝑧_1 = 22 m                          (perbedaan elevasi)\n",
    "\n",
    "𝐾_(𝐿, 𝑒𝑛𝑡𝑟𝑎𝑛𝑐𝑒) = 0,50                             (ada 1)\n",
    "𝐾_(𝐿, 𝑒𝑥𝑖𝑡)     = 1,10                              (ada 1)\n",
    "𝐾_(𝐿, 𝑣𝑎𝑙𝑣𝑒)    = 8                                 (ada 1)\n",
    "𝐾_(𝐿, 𝑒𝑙𝑏𝑜𝑤)   = 0,9                             (ada 8 elbow)\n",
    "\n",
    "\n",
    "𝐷_𝑝𝑖𝑝𝑎           = 40 mm                       (diameter pipa)\n",
    "𝜖_𝑝𝑖𝑝𝑎           = 0,30 mm                     (kekasaran pipa)\n",
    "𝐿_𝑝𝑖𝑝𝑎           = (300 + X) m                (panjang total pipa dalam meter)\n",
    "                                                                 "
   ]
  },
  {
   "cell_type": "code",
   "execution_count": 140,
   "id": "c543bbea",
   "metadata": {},
   "outputs": [
    {
     "name": "stdout",
     "output_type": "stream",
     "text": [
      "K_total = 16.8   \n",
      "Q_aliran = 60 Liter/min  \n",
      "v_aliran = 0.8 m/s  \n",
      "\n",
      "Re = 24274.19   \n",
      "Faktor friksi f = 0.04   \n",
      "Aliran Turbulen\n",
      "\n",
      "hL_minor = 0.54 m  \n",
      "hL_major = 11.97 m  \n",
      "h_elevasi = 22 m  \n",
      "h_total = 34.51 m  \n",
      "\n",
      "P_total = 337.9 kPa  \n",
      "\n",
      "W_dot_pump = 0.34 kW  \n",
      "W_dot_shaft = 0.52 kW  \n",
      "W_dot_electrical = 0.56 kW  \n"
     ]
    }
   ],
   "source": [
    "# Diketahui\n",
    "\n",
    "# NIU contoh\n",
    "X = 99                             # NIU contoh\n",
    "\n",
    "# massa jenis air pada 10 degC [kg/m3] dan viskositas [kg/m.s]\n",
    "rho_water = 999       # [kg/m3]\n",
    "mu_water = 1.31e-3    # [kg/m.s]\n",
    "g        = 9.8        # [m/s2]\n",
    "\n",
    "# Kondisi elevasi\n",
    "h_elevasi = 22        # [m]\n",
    "\n",
    "# Kondisi aksesoris pipa\n",
    "K_value_list  = [0.50*1, 1.10*1, 8*1, 0.9*8]\n",
    "K_total = 0\n",
    "for K_value in K_value_list:\n",
    "    K_total = K_total + K_value\n",
    "print_px(\"K_total\", K_total,\"\")\n",
    "\n",
    "# Kondisi pipa\n",
    "D_pipa = 40                        # [mm]\n",
    "D_pipa = D_pipa/1000               # [m]\n",
    "eps_pipa = 0.30                    # [mm]\n",
    "eps_pipa = eps_pipa/1000            # [m]\n",
    "L_pipa = 300+X                     # [m]\n",
    "eps_per_D = eps_pipa/D_pipa \n",
    "L_per_D = L_pipa/D_pipa\n",
    "A_pipa = 0.25*3.14159*D_pipa**2    # [m2]\n",
    "\n",
    "# Kondisi motor dan pompa\n",
    "eff_motor = 0.92\n",
    "eff_pompa = 0.65\n",
    "eff_sistem_pompa_listrik = eff_motor*eff_pompa\n",
    "\n",
    "# Debit\n",
    "Q_aliran = 60                                   # [Liter/min]\n",
    "print_px(\"Q_aliran\", Q_aliran, \"Liter/min\", rounding = 1)\n",
    "Q_aliran = Q_aliran/60/1000                     # [m3/s]\n",
    "v_aliran = Q_aliran/A_pipa                      # [m/s]\n",
    "print_px(\"v_aliran\", v_aliran, \"m/s\")\n",
    "m_dot_aliran = rho_water*Q_aliran               # [kg/s]\n",
    "m_dot_aliran = m_dot_aliran*60                  # [kg/min]\n",
    "# print_px(\"m_dot_aliran\", m_dot_aliran, \"kg/min\", rounding = 1)\n",
    "print(\"\")\n",
    "\n",
    "# Friction Factor Calculation\n",
    "Re = rho_water*v_aliran*D_pipa/mu_water\n",
    "print_px(\"Re\", Re, \"\")\n",
    "f = faktor_friksi_aliran_pipa(Re, eps_per_D)\n",
    "print_px(\"Faktor friksi f\", f, \"\")\n",
    "tipe_aliran_pipa(Re)\n",
    "\n",
    "# Head Loss calculation\n",
    "hL_major = f*L_per_D*v_aliran**2/(2*g)     # [m]\n",
    "hL_minor = K_total*v_aliran**2/(2*g)       # [m]\n",
    "h_total = h_elevasi + hL_major + hL_minor  # [m]\n",
    "print_px(\"hL_minor\", hL_minor, \"m\")\n",
    "print_px(\"hL_major\", hL_major, \"m\")\n",
    "print_px(\"h_elevasi\", h_elevasi, \"m\")\n",
    "print_px(\"h_total\", h_total, \"m\")\n",
    "\n",
    "# P calculation\n",
    "P_drop_major = rho_water*g*hL_major/1000    # [kPa]\n",
    "P_drop_minor = rho_water*g*hL_minor/1000    # [kPa]\n",
    "P_elevasi = rho_water*g*h_elevasi/1000       # [kPa]\n",
    "P_total = P_elevasi + P_drop_major + P_drop_minor  # [kPa]\n",
    "print(\"\")\n",
    "# print_px(\"PL_major\", P_drop_major, \"kPa\", rounding = 1)\n",
    "# print_px(\"PL_minor\", P_drop_minor, \"kPa\", rounding = 1)\n",
    "# print_px(\"P_elevasi\", P_elevasi, \"kPa\", rounding = 1)\n",
    "print_px(\"P_total\", P_total, \"kPa\", rounding = 1)\n",
    "print(\"\")\n",
    "\n",
    "# Pumping power calculation\n",
    "#print_px(\"Q_aliran\", Q_aliran, \"m/s\", rounding = 4)\n",
    "#print_px(\"P_total\", P_total, \"kPa\", rounding = 1)\n",
    "W_dot_pump = Q_aliran*P_total       # [kW]\n",
    "print_px(\"W_dot_pump\", W_dot_pump, \"kW\", rounding = 2)\n",
    "\n",
    "# Shaft power calculation\n",
    "W_dot_shaft = W_dot_pump/eff_pompa       # [kW]\n",
    "print_px(\"W_dot_shaft\", W_dot_shaft, \"kW\", rounding = 2)\n",
    "\n",
    "# Electric Power Requirement\n",
    "W_dot_electrical = W_dot_pump/eff_sistem_pompa_listrik       # [kW]\n",
    "print_px(\"W_dot_electrical\", W_dot_electrical, \"kW\", rounding = 2)"
   ]
  },
  {
   "cell_type": "markdown",
   "id": "6da39c14",
   "metadata": {},
   "source": [
    "# Soal - 2 (CPMK 4, 10 poin)"
   ]
  },
  {
   "cell_type": "code",
   "execution_count": 148,
   "id": "65a26d19",
   "metadata": {},
   "outputs": [
    {
     "name": "stdout",
     "output_type": "stream",
     "text": [
      "A_c = 44.85 m^2  \n",
      "P_basah = 21.65 m  \n",
      "R_H = 2.07 m  \n",
      "Q_c = 257.67 m3/s  \n"
     ]
    }
   ],
   "source": [
    "# Aliran melalui kanal trapesium\n",
    "\n",
    "# Sesuai nilai NIU\n",
    "X = 99\n",
    "depth = (200+X)     # [cm]\n",
    "depth = depth/100  # [meter]\n",
    "\n",
    "# Geometri penampang aliran\n",
    "n = 0.02\n",
    "atas = 20    # [meter]\n",
    "bawah = 10   # [meter]\n",
    "\n",
    "# Luas penampang aliran\n",
    "A_c = depth*(atas+bawah)/2     # [m^2]\n",
    "\n",
    "# Perimeter basah\n",
    "x = (atas-bawah)/2                    # [meter]\n",
    "sisi_miring = math.sqrt(depth**2 + x**2)    # [meter]\n",
    "P_basah = bawah + 2*sisi_miring       # [meter]\n",
    "\n",
    "# Radius Hidraulik\n",
    "R_H = A_c / P_basah                  # [meter]\n",
    "\n",
    "# Slope\n",
    "S0 = 5 / 1000                        # [meter/meter] or dimensionless\n",
    "\n",
    "# Perhitungan debit\n",
    "Q_c = (1/n)*A_c*R_H**(2/3)*S0**(1/2)   # [m^3/s]\n",
    "\n",
    "# Print-Out\n",
    "print_px(\"A_c\", A_c, \"m^2\", rounding = 2)\n",
    "print_px(\"P_basah\", P_basah, \"m\", rounding = 2)\n",
    "print_px(\"R_H\", R_H, \"m\", rounding = 2)\n",
    "print_px(\"Q_c\", Q_c, \"m3/s\", rounding = 2)"
   ]
  },
  {
   "cell_type": "markdown",
   "id": "05c7046b",
   "metadata": {},
   "source": [
    "# Soal-3  (CPMK 4, 10 poin)"
   ]
  },
  {
   "cell_type": "code",
   "execution_count": 151,
   "id": "e0715794",
   "metadata": {},
   "outputs": [
    {
     "name": "stdout",
     "output_type": "stream",
     "text": [
      "v_angin = 22.22 m/s  \n",
      "C_drag = 0.378   \n"
     ]
    }
   ],
   "source": [
    "# Contoh NIU\n",
    "X = 99\n",
    "\n",
    "# Mobil pada terowongan angin\n",
    "v_angin = 80   # [km/h]\n",
    "v_angin = v_angin*1000/3600   #[m/s]\n",
    "rho_udara = 1.16   # [kg/m^3]\n",
    "A_frontal = 2.3    # [m^2]\n",
    "F_drag = (150 +  X)   # [Newton] \n",
    "\n",
    "# Koefisien Drag\n",
    "C_drag = F_drag/(0.5*rho_udara*v_angin**2*A_frontal)\n",
    "\n",
    "\n",
    "print_px(\"v_angin\", v_angin, \"m/s\", rounding = 2)\n",
    "print_px(\"C_drag\", C_drag, \"\", rounding = 4)"
   ]
  },
  {
   "cell_type": "markdown",
   "id": "c7a44db9",
   "metadata": {},
   "source": [
    "# Soal-4 (CPMK 5, 20 poin)"
   ]
  },
  {
   "cell_type": "code",
   "execution_count": 146,
   "id": "ad402efc",
   "metadata": {
    "scrolled": true
   },
   "outputs": [
    {
     "name": "stdout",
     "output_type": "stream",
     "text": [
      "v_angin = 11.11 m/s  \n",
      "\n",
      "v_model = 66.67 m/s  \n",
      "v_model = 240.0 km/h  \n"
     ]
    }
   ],
   "source": [
    "v_angin = 40   # [km/h]\n",
    "v_angin = v_angin*1000/3600   #[m/s]\n",
    "print_px(\"v_angin\", v_angin, \"m/s\", rounding = 2)\n",
    "print(\"\")\n",
    "\n",
    "v_model = 6*v_angin\n",
    "print_px(\"v_model\", v_model, \"m/s\", rounding = 2)\n",
    "v_model = v_model/1000*3600   # [km/h]\n",
    "print_px(\"v_model\", v_model, \"km/h\", rounding = 2)"
   ]
  },
  {
   "cell_type": "markdown",
   "id": "0785d0bc",
   "metadata": {},
   "source": [
    "# Soal-5 (CPMK 5, 10 poin)"
   ]
  },
  {
   "cell_type": "markdown",
   "id": "02039223",
   "metadata": {},
   "source": [
    "a) tiga (3) dimensi dasar\n",
    "b) tiga (3) variabel terikat\n",
    "c) satu (1) variabel bebas\n",
    "d) empat variabel\n",
    "e) satu (1) variabel tidak berdimensi."
   ]
  },
  {
   "cell_type": "markdown",
   "id": "4cc502b7",
   "metadata": {},
   "source": [
    "# Soal-6 (CPMK 5, 20 poin)"
   ]
  },
  {
   "cell_type": "markdown",
   "id": "3ebdbffd",
   "metadata": {},
   "source": [
    "a)  a= 1, b=-3,  c= 0\n",
    "b)  1:8"
   ]
  }
 ],
 "metadata": {
  "kernelspec": {
   "display_name": "Python 3 (ipykernel)",
   "language": "python",
   "name": "python3"
  },
  "language_info": {
   "codemirror_mode": {
    "name": "ipython",
    "version": 3
   },
   "file_extension": ".py",
   "mimetype": "text/x-python",
   "name": "python",
   "nbconvert_exporter": "python",
   "pygments_lexer": "ipython3",
   "version": "3.11.5"
  }
 },
 "nbformat": 4,
 "nbformat_minor": 5
}
