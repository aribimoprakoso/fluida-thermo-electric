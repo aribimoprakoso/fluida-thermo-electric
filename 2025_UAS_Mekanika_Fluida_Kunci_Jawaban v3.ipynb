{
  "cells": [
    {
      "cell_type": "markdown",
      "metadata": {
        "id": "view-in-github",
        "colab_type": "text"
      },
      "source": [
        "<a href=\"https://colab.research.google.com/github/aribimoprakoso/fluida-thermo-electric/blob/main/2025_UAS_Mekanika_Fluida_Kunci_Jawaban%20v3.ipynb\" target=\"_parent\"><img src=\"https://colab.research.google.com/assets/colab-badge.svg\" alt=\"Open In Colab\"/></a>"
      ]
    },
    {
      "cell_type": "markdown",
      "id": "31dffff2",
      "metadata": {
        "id": "31dffff2"
      },
      "source": [
        "# Soal-1  (CPMK 4, 30 poin)"
      ]
    },
    {
      "cell_type": "markdown",
      "id": "be8df6b8",
      "metadata": {
        "id": "be8df6b8"
      },
      "source": [
        "## Rumus-Rumus Dasar"
      ]
    },
    {
      "cell_type": "code",
      "source": [
        "# check variasi dari akun eksternal"
      ],
      "metadata": {
        "id": "s-CMGJ6E4Cw6"
      },
      "id": "s-CMGJ6E4Cw6",
      "execution_count": 1,
      "outputs": []
    },
    {
      "cell_type": "code",
      "execution_count": 2,
      "id": "37e3d2e2",
      "metadata": {
        "id": "37e3d2e2"
      },
      "outputs": [],
      "source": [
        "import math\n",
        "\n",
        "# Fungsi untuk cetak besar variabel dan satuannya dengan singkat dan rapih\n",
        "# Prettify print function for variables with magnitude and unit\n",
        "def print_p(magnitude, unit=\" \", explanation= \" \", rounding=2):\n",
        "    magnitude_pretty = round(magnitude,rounding)\n",
        "    print(str(magnitude_pretty) +\" \"+unit+\" \"+explanation)\n",
        "\n",
        "def print_px(variable, magnitude, unit=\" \", explanation=\" \",  rounding=2):\n",
        "    magnitude_pretty = round(magnitude,rounding)\n",
        "    print(variable+\" = \"+str(magnitude_pretty) +\" \"+unit+\" \"+explanation)\n",
        "\n",
        "# Bagaimana menentukan tipe aliran pipa?\n",
        "def tipe_aliran_pipa(Re):\n",
        "    if Re<=2000:\n",
        "        x = \"Aliran Laminer\"\n",
        "    elif Re>= 4000:\n",
        "        x = \"Aliran Turbulen\"\n",
        "    elif (Re>2000 and Re<4000):\n",
        "        x = \"Aliran Transisi Laminer ke Turbulen\"\n",
        "    else:\n",
        "        x = \"Tidak masuk rentang perhitungan. Cek lagi perhitungan atau tipe data.\"\n",
        "    print(x)\n",
        "    print(\"\")\n",
        "\n",
        "# Bagaimana menentukan faktor friksi dari aliran pipa?:\n",
        "def faktor_friksi_aliran_pipa(Re, eps_per_D=0):\n",
        "    if Re<=2000:\n",
        "        f=64/Re                                                         # Rumus Laminar\n",
        "    elif Re>= 4000:\n",
        "        f_inv_sqrt = -1.8*math.log10((eps_per_D/3.7)**1.11+(6.9/Re))    # Rumus eksplisit Haaland\n",
        "        f = f_inv_sqrt**(-2)\n",
        "    elif (Re>2000 and Re<4000):\n",
        "        print(\"Aliran transisi laminar ke turbulen. Nilai faktor friksi f dari rumus ini tidak terlalu akurat.\")\n",
        "        f_lam=64/Re\n",
        "        f_inv_sqrt = -1.8*math.log10((eps_per_D/3.7)**1.11+(6.9/Re))    # Rumus eksplisit Haaland\n",
        "        f_turb = f_inv_sqrt**(-2)\n",
        "        x = (Re-2000)/(4000-2000)      # x=0 dekat laminar, x=1 dekat turbulen\n",
        "        f = (1-x)*f_lam + x*f_turb\n",
        "    return f"
      ]
    },
    {
      "cell_type": "markdown",
      "id": "6e4bc51c",
      "metadata": {
        "id": "6e4bc51c"
      },
      "source": [
        "# Soal-1 dan Penyelesaiannya\n",
        "\n",
        "𝑧_2−𝑧_1 = 30 m                          (perbedaan elevasi)\n",
        "\n",
        "𝐾_(𝐿, 𝑒𝑛𝑡𝑟𝑎𝑛𝑐𝑒) = 0,49                             (ada 1)\n",
        "𝐾_(𝐿, 𝑒𝑥𝑖𝑡)     = 1,05                              (ada 1)\n",
        "𝐾_(𝐿, 𝑣𝑎𝑙𝑣𝑒)    = 12                                 (ada 1)\n",
        "𝐾_(𝐿, 𝑒𝑙𝑏𝑜𝑤)   = 0,88                             (ada 7 elbow)\n",
        "\n",
        "\n",
        "𝐷_𝑝𝑖𝑝𝑎           = 50 mm                       (diameter pipa)\n",
        "𝜖_𝑝𝑖𝑝𝑎           = 0,03 mm                     (kekasaran pipa)\n",
        "𝐿_𝑝𝑖𝑝𝑎           = (200 + X) m                (panjang total pipa dalam meter)\n",
        "                                                                 "
      ]
    },
    {
      "cell_type": "code",
      "execution_count": 3,
      "metadata": {
        "colab": {
          "base_uri": "https://localhost:8080/"
        },
        "outputId": "599e3ba2-2839-41bd-c8da-e7e3a7e28286",
        "id": "V3MsieZCUrzf"
      },
      "outputs": [
        {
          "output_type": "stream",
          "name": "stdout",
          "text": [
            "\n",
            "Dua Digit NIU = 0   \n",
            "K_total = 19.7   \n",
            "Q_aliran = 70 Liter/min  \n",
            "v_aliran = 0.59 m/s  \n",
            "\n",
            "Re = 33280.7   \n",
            "Faktor friksi f = 0.02   \n",
            "Aliran Turbulen\n",
            "\n",
            "hL_minor = 0.35 m  \n",
            "hL_major = 1.75 m  \n",
            "h_elevasi = 30 m  \n",
            "h_total = 32.1 m  \n",
            "\n",
            "P_total = 313.6 kPa  \n",
            "\n",
            "W_dot_pump = 0.37 kW  \n",
            "W_dot_shaft = 0.52 kW  \n",
            "W_dot_electrical = 0.58 kW  \n",
            "\n",
            "Dua Digit NIU = 25   \n",
            "K_total = 19.7   \n",
            "Q_aliran = 70 Liter/min  \n",
            "v_aliran = 0.59 m/s  \n",
            "\n",
            "Re = 33280.7   \n",
            "Faktor friksi f = 0.02   \n",
            "Aliran Turbulen\n",
            "\n",
            "hL_minor = 0.35 m  \n",
            "hL_major = 1.96 m  \n",
            "h_elevasi = 30 m  \n",
            "h_total = 32.32 m  \n",
            "\n",
            "P_total = 315.8 kPa  \n",
            "\n",
            "W_dot_pump = 0.37 kW  \n",
            "W_dot_shaft = 0.53 kW  \n",
            "W_dot_electrical = 0.58 kW  \n",
            "\n",
            "Dua Digit NIU = 50   \n",
            "K_total = 19.7   \n",
            "Q_aliran = 70 Liter/min  \n",
            "v_aliran = 0.59 m/s  \n",
            "\n",
            "Re = 33280.7   \n",
            "Faktor friksi f = 0.02   \n",
            "Aliran Turbulen\n",
            "\n",
            "hL_minor = 0.35 m  \n",
            "hL_major = 2.18 m  \n",
            "h_elevasi = 30 m  \n",
            "h_total = 32.54 m  \n",
            "\n",
            "P_total = 317.9 kPa  \n",
            "\n",
            "W_dot_pump = 0.37 kW  \n",
            "W_dot_shaft = 0.53 kW  \n",
            "W_dot_electrical = 0.59 kW  \n",
            "\n",
            "Dua Digit NIU = 75   \n",
            "K_total = 19.7   \n",
            "Q_aliran = 70 Liter/min  \n",
            "v_aliran = 0.59 m/s  \n",
            "\n",
            "Re = 33280.7   \n",
            "Faktor friksi f = 0.02   \n",
            "Aliran Turbulen\n",
            "\n",
            "hL_minor = 0.35 m  \n",
            "hL_major = 2.4 m  \n",
            "h_elevasi = 30 m  \n",
            "h_total = 32.75 m  \n",
            "\n",
            "P_total = 320.0 kPa  \n",
            "\n",
            "W_dot_pump = 0.37 kW  \n",
            "W_dot_shaft = 0.53 kW  \n",
            "W_dot_electrical = 0.59 kW  \n",
            "\n",
            "Dua Digit NIU = 99   \n",
            "K_total = 19.7   \n",
            "Q_aliran = 70 Liter/min  \n",
            "v_aliran = 0.59 m/s  \n",
            "\n",
            "Re = 33280.7   \n",
            "Faktor friksi f = 0.02   \n",
            "Aliran Turbulen\n",
            "\n",
            "hL_minor = 0.35 m  \n",
            "hL_major = 2.61 m  \n",
            "h_elevasi = 30 m  \n",
            "h_total = 32.96 m  \n",
            "\n",
            "P_total = 322.1 kPa  \n",
            "\n",
            "W_dot_pump = 0.38 kW  \n",
            "W_dot_shaft = 0.54 kW  \n",
            "W_dot_electrical = 0.6 kW  \n"
          ]
        }
      ],
      "source": [
        "def soal_aliran_pompa(X):\n",
        "  for x in X:\n",
        "    print(\"\")\n",
        "    print_px(\"Dua Digit NIU\", x, \"\")\n",
        "\n",
        "    # massa jenis air [kg/m3] dan viskositas [kg/m.s]\n",
        "    rho_water = 997       # [kg/m3]\n",
        "    mu_water = 0.00089    # [kg/m.s]     range from 0.00089 to 1.31e-3\n",
        "    g        = 9.8        # [m/s2]\n",
        "\n",
        "    # Kondisi elevasi\n",
        "    h_elevasi = 30        # [m]\n",
        "\n",
        "    # Kondisi aksesoris pipa\n",
        "    K_value_list  = [0.49*1, 1.05*1, 12*1, 0.88*7]\n",
        "    K_total = 0\n",
        "    for K_value in K_value_list:\n",
        "        K_total = K_total + K_value\n",
        "    print_px(\"K_total\", K_total,\"\")\n",
        "\n",
        "    # Kondisi pipa\n",
        "    D_pipa = 50                        # [mm]\n",
        "    D_pipa = D_pipa/1000               # [m]\n",
        "    eps_pipa = 0.03                    # [mm]\n",
        "    eps_pipa = eps_pipa/1000            # [m]\n",
        "    L_pipa = 200+x                     # [m]\n",
        "    eps_per_D = eps_pipa/D_pipa\n",
        "    L_per_D = L_pipa/D_pipa\n",
        "    A_pipa = 0.25*3.14159*D_pipa**2    # [m2]\n",
        "\n",
        "    # Kondisi motor dan pompa\n",
        "    eff_motor = 0.90\n",
        "    eff_pompa = 0.70\n",
        "    eff_sistem_pompa_listrik = eff_motor*eff_pompa\n",
        "\n",
        "    # Debit\n",
        "    Q_aliran = 70                                   # [Liter/min]\n",
        "    print_px(\"Q_aliran\", Q_aliran, \"Liter/min\", rounding = 1)\n",
        "    Q_aliran = Q_aliran/60/1000                     # [m3/s]\n",
        "    v_aliran = Q_aliran/A_pipa                      # [m/s]\n",
        "    print_px(\"v_aliran\", v_aliran, \"m/s\")\n",
        "    m_dot_aliran = rho_water*Q_aliran               # [kg/s]\n",
        "    m_dot_aliran = m_dot_aliran*60                  # [kg/min]\n",
        "    # print_px(\"m_dot_aliran\", m_dot_aliran, \"kg/min\", rounding = 1)\n",
        "    print(\"\")\n",
        "\n",
        "    # Friction Factor Calculation\n",
        "    Re = rho_water*v_aliran*D_pipa/mu_water\n",
        "    print_px(\"Re\", Re, \"\")\n",
        "    f = faktor_friksi_aliran_pipa(Re, eps_per_D)\n",
        "    print_px(\"Faktor friksi f\", f, \"\")\n",
        "    tipe_aliran_pipa(Re)\n",
        "\n",
        "    # Head Loss calculation\n",
        "    hL_major = f*L_per_D*v_aliran**2/(2*g)     # [m]\n",
        "    hL_minor = K_total*v_aliran**2/(2*g)       # [m]\n",
        "    h_total = h_elevasi + hL_major + hL_minor  # [m]\n",
        "    print_px(\"hL_minor\", hL_minor, \"m\")\n",
        "    print_px(\"hL_major\", hL_major, \"m\")\n",
        "    print_px(\"h_elevasi\", h_elevasi, \"m\")\n",
        "    print_px(\"h_total\", h_total, \"m\")\n",
        "\n",
        "    # P calculation\n",
        "    P_drop_major = rho_water*g*hL_major/1000    # [kPa]\n",
        "    P_drop_minor = rho_water*g*hL_minor/1000    # [kPa]\n",
        "    P_elevasi = rho_water*g*h_elevasi/1000       # [kPa]\n",
        "    P_total = P_elevasi + P_drop_major + P_drop_minor  # [kPa]\n",
        "    print(\"\")\n",
        "    # print_px(\"PL_major\", P_drop_major, \"kPa\", rounding = 1)\n",
        "    # print_px(\"PL_minor\", P_drop_minor, \"kPa\", rounding = 1)\n",
        "    # print_px(\"P_elevasi\", P_elevasi, \"kPa\", rounding = 1)\n",
        "    print_px(\"P_total\", P_total, \"kPa\", rounding = 1)\n",
        "    print(\"\")\n",
        "\n",
        "    # Pumping power calculation\n",
        "    #print_px(\"Q_aliran\", Q_aliran, \"m/s\", rounding = 4)\n",
        "    #print_px(\"P_total\", P_total, \"kPa\", rounding = 1)\n",
        "    W_dot_pump = Q_aliran*P_total       # [kW]\n",
        "    print_px(\"W_dot_pump\", W_dot_pump, \"kW\", rounding = 2)\n",
        "\n",
        "    # Shaft power calculation\n",
        "    W_dot_shaft = W_dot_pump/eff_pompa       # [kW]\n",
        "    print_px(\"W_dot_shaft\", W_dot_shaft, \"kW\", rounding = 2)\n",
        "\n",
        "    # Electric Power Requirement\n",
        "    W_dot_electrical = W_dot_pump/eff_sistem_pompa_listrik       # [kW]\n",
        "    print_px(\"W_dot_electrical\", W_dot_electrical, \"kW\", rounding = 2)\n",
        "\n",
        "\n",
        "# NIU contoh\n",
        "X = [0, 25, 50, 75, 99]                            # NIU contoh\n",
        "\n",
        "soal_aliran_pompa(X)"
      ],
      "id": "V3MsieZCUrzf"
    },
    {
      "cell_type": "markdown",
      "id": "6da39c14",
      "metadata": {
        "id": "6da39c14"
      },
      "source": [
        "# Soal - 2 (CPMK 4, 10 poin)"
      ]
    },
    {
      "cell_type": "code",
      "execution_count": 4,
      "id": "65a26d19",
      "metadata": {
        "colab": {
          "base_uri": "https://localhost:8080/"
        },
        "id": "65a26d19",
        "outputId": "b0995655-0c21-4adf-aee8-bdd071a7071b"
      },
      "outputs": [
        {
          "output_type": "stream",
          "name": "stdout",
          "text": [
            "Dua Digit NIU = 0   \n",
            "A_c = 13.5 m^2  \n",
            "P_basah = 18.22 m  \n",
            "R_H = 0.74 m  \n",
            "Q_c = 9.25 m3/s  \n",
            "\n",
            "Dua Digit NIU = 25   \n",
            "A_c = 16.88 m^2  \n",
            "P_basah = 18.34 m  \n",
            "R_H = 0.92 m  \n",
            "Q_c = 13.36 m3/s  \n",
            "\n",
            "Dua Digit NIU = 50   \n",
            "A_c = 20.25 m^2  \n",
            "P_basah = 18.49 m  \n",
            "R_H = 1.1 m  \n",
            "Q_c = 18.0 m3/s  \n",
            "\n",
            "Dua Digit NIU = 75   \n",
            "A_c = 23.62 m^2  \n",
            "P_basah = 18.66 m  \n",
            "R_H = 1.27 m  \n",
            "Q_c = 23.14 m3/s  \n",
            "\n",
            "Dua Digit NIU = 99   \n",
            "A_c = 26.86 m^2  \n",
            "P_basah = 18.84 m  \n",
            "R_H = 1.43 m  \n",
            "Q_c = 28.47 m3/s  \n",
            "\n"
          ]
        }
      ],
      "source": [
        "def aliran_kanal_trapesium_cari_debit(X):\n",
        "    for x in X:\n",
        "        # dilapisi oleh bahan dengan nilai n\n",
        "        n = 0.1\n",
        "\n",
        "        # beda elevasi kanal\n",
        "        S0 = 7 / 1000                               # [meter/meter] or dimensionless\n",
        "\n",
        "        # kedalaman kanal sesuai NIU\n",
        "        depth = (100 + x)     # [cm]\n",
        "\n",
        "        # geometri kanal\n",
        "        atas = 18    # [meter]\n",
        "        bawah = 9    # [meter]\n",
        "\n",
        "        # konversi ke satuan SI\n",
        "        depth = depth/100     # [meter]\n",
        "\n",
        "        # geometri penampang aliran\n",
        "        A_c = depth*(atas+bawah)/2                  # [m^2], luas penampang aliran\n",
        "        L = (atas-bawah)/2                          # [meter]\n",
        "        sisi_miring = math.sqrt(depth**2 + L**2)    # [meter]\n",
        "        P_basah = bawah + 2*sisi_miring             # [meter], perimeter basah\n",
        "        R_H = A_c / P_basah                         # [meter]\n",
        "\n",
        "        # hitung debit\n",
        "        print_px(\"Dua Digit NIU\", x, \"\")\n",
        "        Q_c = (1/n)*A_c*R_H**(2/3)*S0**(1/2)        # [m^3/s]\n",
        "        print_px(\"A_c\", A_c, \"m^2\", rounding = 2)\n",
        "        print_px(\"P_basah\", P_basah, \"m\", rounding = 2)\n",
        "        print_px(\"R_H\", R_H, \"m\", rounding = 2)\n",
        "        print_px(\"Q_c\", Q_c, \"m3/s\", rounding = 2)\n",
        "        print(\"\")\n",
        "\n",
        "\n",
        "# nilai NIU X\n",
        "\n",
        "X = [0, 25, 50, 75, 99]\n",
        "\n",
        "aliran_kanal_trapesium_cari_debit(X)"
      ]
    },
    {
      "cell_type": "markdown",
      "id": "05c7046b",
      "metadata": {
        "id": "05c7046b"
      },
      "source": [
        "# Soal-3  (CPMK 4, 10 poin)"
      ]
    },
    {
      "cell_type": "code",
      "execution_count": 5,
      "id": "e0715794",
      "metadata": {
        "colab": {
          "base_uri": "https://localhost:8080/"
        },
        "id": "e0715794",
        "outputId": "32314144-ab23-48bc-dd3b-fc768d4c0e2a"
      },
      "outputs": [
        {
          "output_type": "stream",
          "name": "stdout",
          "text": [
            "Dua Digit NIU = 0   \n",
            "v_angin = 19.44 m/s  \n",
            "C_drag = 0.2755   \n",
            "\n",
            "Dua Digit NIU = 50   \n",
            "v_angin = 19.44 m/s  \n",
            "C_drag = 0.3306   \n",
            "\n",
            "Dua Digit NIU = 99   \n",
            "v_angin = 19.44 m/s  \n",
            "C_drag = 0.3846   \n",
            "\n"
          ]
        }
      ],
      "source": [
        "def hitung_koefisien_drag_diketahui_gaya(X):\n",
        "    for x in X:\n",
        "        # mobil diuji pada terowongan angin dengan kecepatan\n",
        "        v_angin = 70                  #[km/h]\n",
        "        v_angin = v_angin*1000/3600   #[m/s]\n",
        "\n",
        "        # kondisi udara pengujian\n",
        "        rho_udara = 1.2   # [kg/m^3]\n",
        "\n",
        "        # area frontal mobil\n",
        "        A_frontal = 4    # [m^2]\n",
        "\n",
        "        # hasil pengukuran gaya diketahui\n",
        "        F_drag = (250 +  x)   # [Newton]\n",
        "\n",
        "        # Koefisien Drag\n",
        "        C_drag = F_drag/(0.5*rho_udara*v_angin**2*A_frontal)\n",
        "\n",
        "        print_px(\"Dua Digit NIU\", x, \"\")\n",
        "        print_px(\"v_angin\", v_angin, \"m/s\", rounding = 2)\n",
        "        print_px(\"C_drag\", C_drag, \"\", rounding = 4)\n",
        "        print()\n",
        "\n",
        "# Contoh NIU\n",
        "X = [0, 50, 99]\n",
        "\n",
        "hitung_koefisien_drag_diketahui_gaya(X)"
      ]
    },
    {
      "cell_type": "markdown",
      "id": "c7a44db9",
      "metadata": {
        "id": "c7a44db9"
      },
      "source": [
        "# Soal-4 (CPMK 5, 20 poin)"
      ]
    },
    {
      "cell_type": "code",
      "execution_count": 6,
      "id": "ad402efc",
      "metadata": {
        "scrolled": true,
        "colab": {
          "base_uri": "https://localhost:8080/"
        },
        "id": "ad402efc",
        "outputId": "38da9e5e-b66a-4258-e691-f35a1e7e5a5a"
      },
      "outputs": [
        {
          "output_type": "stream",
          "name": "stdout",
          "text": [
            "v_prototype = 11.11 m/s  \n",
            "\n",
            "v_model = 111.11 m/s  \n",
            "v_model = 400.0 km/h  \n"
          ]
        }
      ],
      "source": [
        "prototype_to_model_size = 10      # prototype berapa kali lebih besar\n",
        "v_prototype = 40                  # [km/h]\n",
        "\n",
        "def dicari_kecepatan_angin_uji_di_model(prototype_to_model_size, v_prototype):\n",
        "    v_prototype = v_prototype*1000/3600   #[m/s]\n",
        "    print_px(\"v_prototype\", v_prototype, \"m/s\", rounding = 2)\n",
        "    print(\"\")\n",
        "\n",
        "    v_model = prototype_to_model_size*v_prototype\n",
        "    print_px(\"v_model\", v_model, \"m/s\", rounding = 2)\n",
        "    v_model = v_model/1000*3600   # [km/h]\n",
        "    print_px(\"v_model\", v_model, \"km/h\", rounding = 2)\n",
        "\n",
        "dicari_kecepatan_angin_uji_di_model(prototype_to_model_size, v_prototype)"
      ]
    },
    {
      "cell_type": "markdown",
      "id": "0785d0bc",
      "metadata": {
        "id": "0785d0bc"
      },
      "source": [
        "# Soal-5 (CPMK 5, 10 poin)"
      ]
    },
    {
      "cell_type": "markdown",
      "id": "02039223",
      "metadata": {
        "id": "02039223"
      },
      "source": [
        "a)\n",
        "b) tiga (3) dimensi dasar\n",
        "c) enam (6) variabel terikat\n",
        "c) satu (1) variabel bebas\n",
        "d) tujuh (7) variabel\n",
        "e) empat (4) variabel tidak berdimensi."
      ]
    },
    {
      "cell_type": "markdown",
      "id": "4cc502b7",
      "metadata": {
        "id": "4cc502b7"
      },
      "source": [
        "# Soal-6 (CPMK 5, 20 poin)"
      ]
    },
    {
      "cell_type": "markdown",
      "id": "3ebdbffd",
      "metadata": {
        "id": "3ebdbffd"
      },
      "source": [
        "a)  a= 5, b=3,  c= 1"
      ]
    }
  ],
  "metadata": {
    "kernelspec": {
      "display_name": "Python 3 (ipykernel)",
      "language": "python",
      "name": "python3"
    },
    "language_info": {
      "codemirror_mode": {
        "name": "ipython",
        "version": 3
      },
      "file_extension": ".py",
      "mimetype": "text/x-python",
      "name": "python",
      "nbconvert_exporter": "python",
      "pygments_lexer": "ipython3",
      "version": "3.11.5"
    },
    "colab": {
      "provenance": [],
      "include_colab_link": true
    }
  },
  "nbformat": 4,
  "nbformat_minor": 5
}